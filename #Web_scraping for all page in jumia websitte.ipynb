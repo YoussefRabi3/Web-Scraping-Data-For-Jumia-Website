{
 "cells": [
  {
   "cell_type": "code",
   "execution_count": 1,
   "id": "9490c8fd",
   "metadata": {},
   "outputs": [
    {
     "name": "stdout",
     "output_type": "stream",
     "text": [
      "--- 1 ---\n",
      "--- 2 ---\n",
      "--- 3 ---\n",
      "--- 4 ---\n",
      "--- 5 ---\n",
      "--- 6 ---\n",
      "--- 7 ---\n",
      "--- 8 ---\n",
      "--- 9 ---\n"
     ]
    }
   ],
   "source": [
    "import requests\n",
    "from bs4 import BeautifulSoup\n",
    "import pandas as pd\n",
    "\n",
    "\n",
    "url = 'https://www.jumia.ma/smartphones/?page='\n",
    "\n",
    "columns = {'name':[] , 'price':[], 'img url': []}\n",
    "\n",
    "for page in range(1,10):\n",
    "    print('---', page, '---')\n",
    "    r = requests.get(url + str(page))\n",
    "    soup = BeautifulSoup(r.content, \"html.parser\")\n",
    "\n",
    "    ancher = soup.find('div',{'class' : '-paxs row _no-g _4cl-3cm-shs'}).find_all('article' , {'class' : 'prd _fb col c-prd'})\n",
    "\n",
    "    for pt in ancher:\n",
    "        img=pt.find('a').find('div' , {'class' : 'img-c'}).find('img',{'class':'img'})\n",
    "\n",
    "        name = pt.find('a').find('div' , {'class' : 'info'}).find('h3' , {'class' : 'name'})\n",
    "    \n",
    "\n",
    "        price = pt.find('a').find('div' , {'class' : 'info'}).find('div' , {'class' : 'prc'})\n",
    "\n",
    "        columns['name'].append(name.text)\n",
    "        columns['price'].append(price.text)\n",
    "        columns['img url'].append(img.get('data-src'))\n",
    "        \n",
    "\n",
    "data = pd.DataFrame(columns)\n",
    "data.to_excel('data.xlsx')"
   ]
  },
  {
   "cell_type": "code",
   "execution_count": null,
   "id": "fa443b8c",
   "metadata": {},
   "outputs": [],
   "source": []
  }
 ],
 "metadata": {
  "kernelspec": {
   "display_name": "Python 3 (ipykernel)",
   "language": "python",
   "name": "python3"
  },
  "language_info": {
   "codemirror_mode": {
    "name": "ipython",
    "version": 3
   },
   "file_extension": ".py",
   "mimetype": "text/x-python",
   "name": "python",
   "nbconvert_exporter": "python",
   "pygments_lexer": "ipython3",
   "version": "3.9.12"
  }
 },
 "nbformat": 4,
 "nbformat_minor": 5
}
